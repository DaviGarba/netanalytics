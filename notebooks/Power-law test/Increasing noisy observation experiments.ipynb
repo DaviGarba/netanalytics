{
 "cells": [
  {
   "cell_type": "code",
   "execution_count": 1,
   "metadata": {},
   "outputs": [],
   "source": [
    "import numpy as np\n",
    "import pandas as pd\n",
    "import powerlaw\n",
    "import networkx as nx\n",
    "from netanalytics.power_law_testing import monte_carlo_resampling, p_value"
   ]
  },
  {
   "cell_type": "code",
   "execution_count": 2,
   "metadata": {},
   "outputs": [
    {
     "name": "stdout",
     "output_type": "stream",
     "text": [
      "Iteration 0\n"
     ]
    },
    {
     "name": "stderr",
     "output_type": "stream",
     "text": [
      "Calculating best minimal value for power law fit\n",
      "/home/vero/miniconda2/envs/py36/lib/python3.6/site-packages/powerlaw.py:700: RuntimeWarning: invalid value encountered in true_divide\n",
      "  (Theoretical_CDF * (1 - Theoretical_CDF))\n",
      "/home/vero/miniconda2/envs/py36/lib/python3.6/site-packages/powerlaw.py:700: RuntimeWarning: divide by zero encountered in true_divide\n",
      "  (Theoretical_CDF * (1 - Theoretical_CDF))\n",
      "Calculating best minimal value for power law fit\n",
      "Calculating best minimal value for power law fit\n",
      "Calculating best minimal value for power law fit\n",
      "Calculating best minimal value for power law fit\n"
     ]
    },
    {
     "ename": "IndexError",
     "evalue": "only integers, slices (`:`), ellipsis (`...`), numpy.newaxis (`None`) and integer or boolean arrays are valid indices",
     "output_type": "error",
     "traceback": [
      "\u001b[0;31m---------------------------------------------------------------------------\u001b[0m",
      "\u001b[0;31mIndexError\u001b[0m                                Traceback (most recent call last)",
      "\u001b[0;32m<ipython-input-2-ba8bf4b186ca>\u001b[0m in \u001b[0;36m<module>\u001b[0;34m()\u001b[0m\n\u001b[1;32m     30\u001b[0m \u001b[0;34m\u001b[0m\u001b[0m\n\u001b[1;32m     31\u001b[0m     \u001b[0;31m#G = nx.configuration_model(data, create_using=nx.Graph())\u001b[0m\u001b[0;34m\u001b[0m\u001b[0;34m\u001b[0m\u001b[0m\n\u001b[0;32m---> 32\u001b[0;31m     \u001b[0mresamplings\u001b[0m \u001b[0;34m=\u001b[0m \u001b[0mmonte_carlo_resampling\u001b[0m\u001b[0;34m(\u001b[0m\u001b[0mint\u001b[0m\u001b[0;34m(\u001b[0m\u001b[0mlen\u001b[0m\u001b[0;34m(\u001b[0m\u001b[0mdata\u001b[0m\u001b[0;34m)\u001b[0m\u001b[0;34m/\u001b[0m\u001b[0;36m2\u001b[0m\u001b[0;34m)\u001b[0m\u001b[0;34m,\u001b[0m\u001b[0mdata\u001b[0m\u001b[0;34m,\u001b[0m\u001b[0;36m5\u001b[0m\u001b[0;34m)\u001b[0m\u001b[0;34m\u001b[0m\u001b[0m\n\u001b[0m\u001b[1;32m     33\u001b[0m     p_values_MC = [p_value(resamplings[i], 25)\n\u001b[1;32m     34\u001b[0m                    for i in range(len(resamplings))]\n",
      "\u001b[0;32m~/netanalytics/netanalytics/power_law_testing.py\u001b[0m in \u001b[0;36mmonte_carlo_resampling\u001b[0;34m(min_length, G, n_lengths, n_repetitions, verbose)\u001b[0m\n\u001b[1;32m     28\u001b[0m         \u001b[0;32mfor\u001b[0m \u001b[0mr\u001b[0m \u001b[0;32min\u001b[0m \u001b[0mrange\u001b[0m\u001b[0;34m(\u001b[0m\u001b[0mn_repetitions\u001b[0m\u001b[0;34m)\u001b[0m\u001b[0;34m:\u001b[0m\u001b[0;34m\u001b[0m\u001b[0m\n\u001b[1;32m     29\u001b[0m             results.append(\n\u001b[0;32m---> 30\u001b[0;31m                 np.random.choice(degrees['Degree'].values,\n\u001b[0m\u001b[1;32m     31\u001b[0m                                  \u001b[0msize\u001b[0m\u001b[0;34m=\u001b[0m\u001b[0mk\u001b[0m\u001b[0;34m,\u001b[0m\u001b[0;34m\u001b[0m\u001b[0m\n\u001b[1;32m     32\u001b[0m                                  replace=False))\n",
      "\u001b[0;31mIndexError\u001b[0m: only integers, slices (`:`), ellipsis (`...`), numpy.newaxis (`None`) and integer or boolean arrays are valid indices"
     ]
    }
   ],
   "source": [
    "p_values_state = []\n",
    "mean_p_values_RW = []\n",
    "std_p_values_RW = []\n",
    "\n",
    "k = 0\n",
    "while k<5:\n",
    "    print('Iteration {}'.format(k))\n",
    "    xmin = np.random.randint(2,100)\n",
    "    alpha = np.random.choice(np.linspace(2,3,40))\n",
    "    distr = powerlaw.Power_Law(xmin = xmin, parameters = [alpha], discrete = True)\n",
    "    data = distr.generate_random(100000,estimate_discrete=True)\n",
    "    if np.sum(data)%2!=0:\n",
    "        data[np.where(data==np.min(data))[0][0]] = data[np.where(data==np.min(data))[0][0]]+1\n",
    "    \n",
    "    \n",
    "    noise = [np.random.choice(np.unique(data),n).astype(int) for n in range(10,110,30)]\n",
    "    noisy_data = [np.hstack((data,noise[i])) for i in range(len(noise))]\n",
    "    for i in range(len(noisy_data)):\n",
    "        if np.sum(noisy_data[i])%2!=0:\n",
    "            noisy_data[i][np.where(noisy_data[i]==np.min(noisy_data[i]))[0][0]] = noisy_data[i][np.where(noisy_data[i]==np.min(noisy_data[i]))[0][0]]+1\n",
    "    \n",
    "    \n",
    "    data = data.astype(int)\n",
    "    p_values_state.append(p_value(data))\n",
    "\n",
    "    for i in range(len(noisy_data)):\n",
    "        p_values_state.append(p_value(noisy_data[i]))\n",
    "    \n",
    "    \n",
    "    \n",
    "    #G = nx.configuration_model(data, create_using=nx.Graph())\n",
    "    resamplings = monte_carlo_resampling(int(len(data)/2),data,5)\n",
    "    p_values_MC = [p_value(resamplings[i], 25)\n",
    "                   for i in range(len(resamplings))]\n",
    "    mean_p_values_MC.append(np.mean(p_values_MC))\n",
    "    std_p_values_MC.append(np.std(p_values_MC))\n",
    "    \n",
    "    for j in range(len(noisy_data)):\n",
    "        print(\"Amount of noise: {} noisy observations\".format(len(noisy_data[j])-100000))\n",
    "        noisy_data[j] = noisy_data[j].astype(int)\n",
    "        #G = nx.configuration_model(noisy_data[j], create_using=nx.Graph())\n",
    "\n",
    "\n",
    "        resamplings = MC_undirected_sequence(int(len(noisy_data[j])/2),noisy_data[j],5)\n",
    "\n",
    "        p_values_MC = [p_value(25,resamplings[i]) for i in range(len(resamplings))]\n",
    "        p_values_MC = np.array(p_values_MC)\n",
    "        mean_p_values_MC.append(np.mean(p_values_MC))\n",
    "        std_p_values_MC.append(np.std(p_values_MC))\n",
    "\n",
    "    k = k+1"
   ]
  },
  {
   "cell_type": "code",
   "execution_count": null,
   "metadata": {},
   "outputs": [],
   "source": [
    "p_values_state = np.array(p_values_state).reshape((5,5)).T"
   ]
  },
  {
   "cell_type": "code",
   "execution_count": null,
   "metadata": {},
   "outputs": [],
   "source": [
    "mean_p_values_MC = np.array(mean_p_values_MC).reshape((5,5)).T"
   ]
  },
  {
   "cell_type": "code",
   "execution_count": null,
   "metadata": {},
   "outputs": [],
   "source": [
    "box = np.zeros((10,5))\n",
    "box[np.arange(0,10,2),:]=p_values_state\n",
    "box[np.arange(1,10,2),:]=mean_p_values_MC"
   ]
  },
  {
   "cell_type": "code",
   "execution_count": null,
   "metadata": {},
   "outputs": [],
   "source": [
    "from matplotlib import rcParams\n",
    "from matplotlib.lines import Line2D\n",
    "\n",
    "rcParams.update({'font.size':18})\n",
    "plt.figure(figsize=(15,4))\n",
    "bp = plt.boxplot(boxplots,  positions=[1.20, 1.80, 3.20, 3.80, 5.20, 5.80, 7.20, 7.80,9.20, 9.80], #notch=True,  # notch shape\n",
    "                         vert=True,patch_artist=True, medianprops=dict(color='red', linewidth=3))\n",
    "plt.setp(bp['boxes'], color='black')\n",
    "plt.setp(bp['whiskers'], color='black')\n",
    "plt.setp(bp['fliers'], color='red', marker='+')\n",
    "colors = ['pink', 'lightblue']\n",
    "# for bplot in (bplot_):\n",
    "#     for patch, color in zip(bplot['boxes'], colors):\n",
    "#         patch.set_facecolor(color)\n",
    "num_boxes = 10\n",
    "medians = np.empty(num_boxes)\n",
    "for i in range(num_boxes):\n",
    "    box = bp['boxes'][i]\n",
    "    box.set_facecolor(colors[i%2])\n",
    "\n",
    "    \n",
    "custom_lines = [Line2D([0], [0], color='pink', lw=5),\n",
    "                Line2D([0], [0], color='lightblue', lw=5),\n",
    "                Line2D([0], [0], color='red', lw=1, linestyle='--'),\n",
    "               ]\n",
    "\n",
    "plt.legend(custom_lines, ['Bootstrap', 'Monte Carlo + Bootstrap', 'Significance level'], ncol=3, \n",
    "          bbox_to_anchor=(0.86, 1.2))\n",
    "plt.axhline(0.1, color='red', linestyle='--')\n",
    "plt.xticks(np.arange(1.5, 10, 2), [0, 10, 40, 70, 100])\n",
    "plt.xlabel('Number of noisy added observations')\n",
    "plt.ylabel(r'$p$-value')\n",
    "# plt.savefig(\"incrementing_noise.pdf\", dpi=200, bbox_inches='tight', transparent=True)\n",
    "plt.show()"
   ]
  },
  {
   "cell_type": "code",
   "execution_count": null,
   "metadata": {},
   "outputs": [],
   "source": [
    "powerlaw.plot_pdf(noisy_data[3])"
   ]
  },
  {
   "cell_type": "code",
   "execution_count": null,
   "metadata": {},
   "outputs": [],
   "source": [
    "np.save('box',box)"
   ]
  },
  {
   "cell_type": "code",
   "execution_count": null,
   "metadata": {},
   "outputs": [],
   "source": [
    "list(range(10,110,30))"
   ]
  },
  {
   "cell_type": "code",
   "execution_count": null,
   "metadata": {},
   "outputs": [],
   "source": []
  }
 ],
 "metadata": {
  "kernelspec": {
   "display_name": "Python 3",
   "language": "python",
   "name": "python3"
  },
  "language_info": {
   "codemirror_mode": {
    "name": "ipython",
    "version": 3
   },
   "file_extension": ".py",
   "mimetype": "text/x-python",
   "name": "python",
   "nbconvert_exporter": "python",
   "pygments_lexer": "ipython3",
   "version": "3.6.5"
  }
 },
 "nbformat": 4,
 "nbformat_minor": 2
}
